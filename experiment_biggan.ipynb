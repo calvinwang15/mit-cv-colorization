{
  "cells": [
    {
      "cell_type": "markdown",
      "metadata": {
        "id": "FXCt3cuOUa4M"
      },
      "source": [
        "# Colab Notebook for experiments on BigGAN generator"
      ]
    },
    {
      "cell_type": "markdown",
      "metadata": {
        "id": "YP0fJGeN0NPL"
      },
      "source": [
        "# Installing BIGGAN"
      ]
    },
    {
      "cell_type": "code",
      "execution_count": null,
      "metadata": {
        "id": "-I6cnNdyw5ox"
      },
      "outputs": [],
      "source": [
        "#google drive prefixes\n",
        "imagenet_path_drive = \"/content/drive/MyDrive/Colab Notebooks/CV/project/imagenet\"\n",
        "path_drive = \"/content/drive/MyDrive/Colab Notebooks/CV/project/\""
      ]
    },
    {
      "cell_type": "code",
      "execution_count": null,
      "metadata": {
        "id": "z1bKSV34yo0z"
      },
      "outputs": [],
      "source": [
        "!pip install pytorch-pretrained-biggan"
      ]
    },
    {
      "cell_type": "markdown",
      "metadata": {
        "id": "92HAsZNb0QGa"
      },
      "source": [
        "# import packages"
      ]
    },
    {
      "cell_type": "code",
      "execution_count": null,
      "metadata": {
        "colab": {
          "base_uri": "https://localhost:8080/"
        },
        "id": "QPCQxZGe0J79",
        "outputId": "1b90b930-3517-49cb-9f68-ee572f4f0403"
      },
      "outputs": [
        {
          "name": "stdout",
          "output_type": "stream",
          "text": [
            "Mounted at /content/drive\n"
          ]
        }
      ],
      "source": [
        "from google.colab import drive\n",
        "drive.mount('/content/drive')"
      ]
    },
    {
      "cell_type": "code",
      "execution_count": null,
      "metadata": {
        "colab": {
          "base_uri": "https://localhost:8080/"
        },
        "id": "ZecftWER0SN6",
        "outputId": "3bd44041-6a22-4a48-ecac-e861e50813e8"
      },
      "outputs": [
        {
          "name": "stdout",
          "output_type": "stream",
          "text": [
            "[nltk_data] Downloading package wordnet to /root/nltk_data...\n",
            "[nltk_data]   Unzipping corpora/wordnet.zip.\n",
            "Using the GPU!\n"
          ]
        }
      ],
      "source": [
        "import torch\n",
        "import torch.nn as nn\n",
        "import torch.nn.functional as F\n",
        "\n",
        "import nltk\n",
        "nltk.download('wordnet')\n",
        "\n",
        "import matplotlib.pyplot as plt\n",
        "import pickle \n",
        "from tqdm import tqdm\n",
        "import torch\n",
        "\n",
        "from colornet_dataset import INColorDataset, get_dataloader\n",
        "from colornet import ColorNet\n",
        "\n",
        "# Detect if we have a GPU available\n",
        "device = torch.device(\"cuda:0\" if torch.cuda.is_available() else \"cpu\")\n",
        "if torch.cuda.is_available():\n",
        "    print(\"Using the GPU!\")\n",
        "else:\n",
        "    print(\"WARNING: Could not find GPU! Using CPU only\")\n",
        "    print(\"You may want to try to use the GPU in Google Colab by clicking in:\")\n",
        "    print(\"Runtime > Change Runtime type > Hardware accelerator > GPU.\")"
      ]
    },
    {
      "cell_type": "markdown",
      "metadata": {
        "id": "jyhQfASG0mP9"
      },
      "source": [
        "# Obtaining Dataset (Imagenet)"
      ]
    },
    {
      "cell_type": "code",
      "execution_count": null,
      "metadata": {
        "id": "5p38Gpy-9mXS"
      },
      "outputs": [],
      "source": [
        "\n",
        "%mkdir imagenet \n",
        "%cd imagenet \n",
        "!tar -xvf \"/content/drive/MyDrive/Colab Notebooks/CV/project/ILSVRC2012_img_val.tar\"\n",
        "%cd /content"
      ]
    },
    {
      "cell_type": "markdown",
      "metadata": {
        "id": "YjPkEF2z2GmZ"
      },
      "source": [
        "# Train Model\n"
      ]
    },
    {
      "cell_type": "code",
      "execution_count": null,
      "metadata": {
        "id": "Rwm54Kh281nu"
      },
      "outputs": [],
      "source": [
        "\n",
        "# Only train encoder and FC layer parameters\n",
        "\n",
        "colornet = ColorNet().to(device)\n",
        "\n",
        "trainables = []\n",
        "trainables.extend(colornet.encoder.parameters())\n",
        "trainables.extend(colornet.fc1.parameters())\n",
        "trainables.extend(colornet.fc2.parameters())\n",
        "trainables.extend(colornet.bn1.parameters())\n",
        "trainables.extend(colornet.bn2.parameters())"
      ]
    },
    {
      "cell_type": "code",
      "execution_count": null,
      "metadata": {
        "id": "qVor0bNAoZsF"
      },
      "outputs": [],
      "source": [
        "optimizer = torch.optim.Adam(trainables, lr = 0.005, betas = (0.5, 0.999))\n",
        "scheduler = torch.optim.lr_scheduler.StepLR(optimizer, 25, gamma=0.1)\n",
        "truncation = 0.1"
      ]
    },
    {
      "cell_type": "code",
      "execution_count": null,
      "metadata": {
        "id": "sSkewfI1hwIs"
      },
      "outputs": [],
      "source": [
        "def evaluate(model, dataloader):\n",
        "    running_loss = 0\n",
        "\n",
        "    model.eval()\n",
        "    with torch.no_grad():\n",
        "        for g, c, gt in dataloader:\n",
        "\n",
        "            g = g.to(device)\n",
        "            c = c.to(device)\n",
        "            gt = gt.to(device)\n",
        "\n",
        "            out, _, _ = model(g, truncation = 1, gt=gt)\n",
        "            loss = nn.MSELoss()(out, c)\n",
        "            \n",
        "            # statistics\n",
        "            running_loss += loss.item() * g.size(0)\n",
        "\n",
        "    print('Evaluation Loss: {:.4f}'.format(running_loss / len(dataloader.dataset)))\n",
        "    return running_loss / len(dataloader.dataset)"
      ]
    },
    {
      "cell_type": "code",
      "execution_count": null,
      "metadata": {
        "id": "FcpW33QQLOU4"
      },
      "outputs": [],
      "source": [
        "\n",
        "# standard training loop\n",
        "def train_model(model, dataloaders, optimizer, scheduler, num_epochs=10):\n",
        "    best_val_loss = 100000\n",
        "    train_losses, val_losses = [], []\n",
        "\n",
        "\n",
        "    for epoch in range(num_epochs):\n",
        "        model.train()\n",
        "        print('Epoch {}/{}'.format(epoch + 1, num_epochs))\n",
        "        print('-' * 10)\n",
        "\n",
        "        running_loss = 0\n",
        "        batches = tqdm(dataloaders[\"train\"], total=len(dataloaders[\"train\"]))\n",
        "\n",
        "        for g, c, gt in batches:\n",
        "            \n",
        "            g = g.to(device)\n",
        "            c = c.to(device)\n",
        "            gt = gt.to(device)\n",
        "            # c = rgb_to_lab(c)\n",
        "\n",
        "            # zero the parameter gradients\n",
        "            optimizer.zero_grad()\n",
        "\n",
        "            out, _, _ = model(g, truncation = truncation, gt=gt)\n",
        "\n",
        "            # #change out to LAB\n",
        "            # out_lab = rgb_to_lab(out)\n",
        "\n",
        "            # #normalize all LAB readings and retreive colors\n",
        "            # c_colors = c[:, 1:, :, :] / 100\n",
        "            # out_lab_colors = out_lab[:, 1:, :, :] / 100\n",
        "\n",
        "            loss = nn.MSELoss()(out, c)\n",
        "\n",
        "            loss.backward()\n",
        "            optimizer.step()\n",
        "\n",
        "            # statistics\n",
        "            running_loss += loss.item() * g.size(0)\n",
        "\n",
        "            batches.set_description(\n",
        "              \"Current Loss ({:.4e}), running total ({:.4e}) \".format(\n",
        "                   loss.item(), running_loss\n",
        "              )\n",
        "            ) \n",
        "        if(scheduler is not None):\n",
        "            scheduler.step()\n",
        "        \n",
        "        epoch_loss = running_loss / len(dataloaders[\"train\"].dataset)\n",
        "        print('Epoch Loss: {:.4f}'.format(epoch_loss))\n",
        "        train_losses.append(epoch_loss)\n",
        "\n",
        "        # evaluate loss on val\n",
        "        val_loss = evaluate(model, dataloaders[\"val\"])\n",
        "        val_losses.append(val_loss)\n",
        "\n",
        "        if(val_loss < best_val_loss):\n",
        "            #saving this model\n",
        "            print('\\n Saving this model: \\n')\n",
        "            best_val_loss = val_loss\n",
        "            torch.save(model.state_dict(), path_drive + \"gt_trunc0.1.pt\")\n",
        "\n",
        "    \n",
        "    return model, train_losses, val_losses"
      ]
    },
    {
      "cell_type": "code",
      "execution_count": null,
      "metadata": {
        "colab": {
          "base_uri": "https://localhost:8080/"
        },
        "id": "NaJ0C-DYRn7K",
        "outputId": "97e64156-8778-4d24-b3a7-aa2d8050253a"
      },
      "outputs": [
        {
          "name": "stdout",
          "output_type": "stream",
          "text": [
            "Epoch 1/50\n",
            "----------\n"
          ]
        },
        {
          "name": "stderr",
          "output_type": "stream",
          "text": [
            "\r  0%|          | 0/94 [00:00<?, ?it/s]/usr/local/lib/python3.7/dist-packages/torch/utils/data/dataloader.py:490: UserWarning: This DataLoader will create 4 worker processes in total. Our suggested max number of worker in current system is 2, which is smaller than what this DataLoader is going to create. Please be aware that excessive worker creation might get DataLoader running slow or even freeze, lower the worker number to avoid potential slowness/freeze if necessary.\n",
            "  cpuset_checked))\n",
            "Current Loss (1.0027e-01), running total (3.0186e+02) : 100%|██████████| 94/94 [01:38<00:00,  1.04s/it]"
          ]
        },
        {
          "name": "stdout",
          "output_type": "stream",
          "text": [
            "Epoch Loss: 0.1006\n"
          ]
        },
        {
          "name": "stderr",
          "output_type": "stream",
          "text": [
            "\n"
          ]
        },
        {
          "name": "stdout",
          "output_type": "stream",
          "text": [
            "Evaluation Loss: 0.1008\n",
            "\n",
            " Saving this model: \n",
            "\n",
            "Epoch 2/50\n",
            "----------\n"
          ]
        },
        {
          "name": "stderr",
          "output_type": "stream",
          "text": [
            "Current Loss (9.2481e-02), running total (2.7780e+02) : 100%|██████████| 94/94 [01:35<00:00,  1.02s/it]"
          ]
        },
        {
          "name": "stdout",
          "output_type": "stream",
          "text": [
            "Epoch Loss: 0.0926\n"
          ]
        },
        {
          "name": "stderr",
          "output_type": "stream",
          "text": [
            "\n"
          ]
        },
        {
          "name": "stdout",
          "output_type": "stream",
          "text": [
            "Evaluation Loss: 0.0890\n",
            "\n",
            " Saving this model: \n",
            "\n",
            "Epoch 3/50\n",
            "----------\n"
          ]
        },
        {
          "name": "stderr",
          "output_type": "stream",
          "text": [
            "Current Loss (8.9117e-02), running total (2.6224e+02) : 100%|██████████| 94/94 [01:33<00:00,  1.00it/s]"
          ]
        },
        {
          "name": "stdout",
          "output_type": "stream",
          "text": [
            "Epoch Loss: 0.0874\n"
          ]
        },
        {
          "name": "stderr",
          "output_type": "stream",
          "text": [
            "\n"
          ]
        },
        {
          "name": "stdout",
          "output_type": "stream",
          "text": [
            "Evaluation Loss: 0.0924\n",
            "Epoch 4/50\n",
            "----------\n"
          ]
        },
        {
          "name": "stderr",
          "output_type": "stream",
          "text": [
            "Current Loss (8.0958e-02), running total (2.5153e+02) : 100%|██████████| 94/94 [01:33<00:00,  1.01it/s]"
          ]
        },
        {
          "name": "stdout",
          "output_type": "stream",
          "text": [
            "Epoch Loss: 0.0838\n"
          ]
        },
        {
          "name": "stderr",
          "output_type": "stream",
          "text": [
            "\n"
          ]
        },
        {
          "name": "stdout",
          "output_type": "stream",
          "text": [
            "Evaluation Loss: 0.0834\n",
            "\n",
            " Saving this model: \n",
            "\n",
            "Epoch 5/50\n",
            "----------\n"
          ]
        },
        {
          "name": "stderr",
          "output_type": "stream",
          "text": [
            "Current Loss (7.9564e-02), running total (2.4205e+02) : 100%|██████████| 94/94 [01:32<00:00,  1.01it/s]"
          ]
        },
        {
          "name": "stdout",
          "output_type": "stream",
          "text": [
            "Epoch Loss: 0.0807\n"
          ]
        },
        {
          "name": "stderr",
          "output_type": "stream",
          "text": [
            "\n"
          ]
        },
        {
          "name": "stdout",
          "output_type": "stream",
          "text": [
            "Evaluation Loss: 0.0801\n",
            "\n",
            " Saving this model: \n",
            "\n",
            "Epoch 6/50\n",
            "----------\n"
          ]
        },
        {
          "name": "stderr",
          "output_type": "stream",
          "text": [
            "Current Loss (8.0960e-02), running total (2.3388e+02) : 100%|██████████| 94/94 [01:33<00:00,  1.01it/s]"
          ]
        },
        {
          "name": "stdout",
          "output_type": "stream",
          "text": [
            "Epoch Loss: 0.0780\n"
          ]
        },
        {
          "name": "stderr",
          "output_type": "stream",
          "text": [
            "\n"
          ]
        },
        {
          "name": "stdout",
          "output_type": "stream",
          "text": [
            "Evaluation Loss: 0.0797\n",
            "\n",
            " Saving this model: \n",
            "\n",
            "Epoch 7/50\n",
            "----------\n"
          ]
        },
        {
          "name": "stderr",
          "output_type": "stream",
          "text": [
            "Current Loss (7.5885e-02), running total (2.2660e+02) : 100%|██████████| 94/94 [01:33<00:00,  1.00it/s]"
          ]
        },
        {
          "name": "stdout",
          "output_type": "stream",
          "text": [
            "Epoch Loss: 0.0755\n"
          ]
        },
        {
          "name": "stderr",
          "output_type": "stream",
          "text": [
            "\n"
          ]
        },
        {
          "name": "stdout",
          "output_type": "stream",
          "text": [
            "Evaluation Loss: 0.0747\n",
            "\n",
            " Saving this model: \n",
            "\n",
            "Epoch 8/50\n",
            "----------\n"
          ]
        },
        {
          "name": "stderr",
          "output_type": "stream",
          "text": [
            "Current Loss (8.5338e-02), running total (2.2071e+02) : 100%|██████████| 94/94 [01:33<00:00,  1.01it/s]"
          ]
        },
        {
          "name": "stdout",
          "output_type": "stream",
          "text": [
            "Epoch Loss: 0.0736\n"
          ]
        },
        {
          "name": "stderr",
          "output_type": "stream",
          "text": [
            "\n"
          ]
        },
        {
          "name": "stdout",
          "output_type": "stream",
          "text": [
            "Evaluation Loss: 0.0758\n",
            "Epoch 9/50\n",
            "----------\n"
          ]
        },
        {
          "name": "stderr",
          "output_type": "stream",
          "text": [
            "Current Loss (6.8256e-02), running total (2.1427e+02) : 100%|██████████| 94/94 [01:32<00:00,  1.01it/s]"
          ]
        },
        {
          "name": "stdout",
          "output_type": "stream",
          "text": [
            "Epoch Loss: 0.0714\n"
          ]
        },
        {
          "name": "stderr",
          "output_type": "stream",
          "text": [
            "\n"
          ]
        },
        {
          "name": "stdout",
          "output_type": "stream",
          "text": [
            "Evaluation Loss: 0.0705\n",
            "\n",
            " Saving this model: \n",
            "\n",
            "Epoch 10/50\n",
            "----------\n"
          ]
        },
        {
          "name": "stderr",
          "output_type": "stream",
          "text": [
            "Current Loss (7.9932e-02), running total (2.0802e+02) : 100%|██████████| 94/94 [01:33<00:00,  1.01it/s]"
          ]
        },
        {
          "name": "stdout",
          "output_type": "stream",
          "text": [
            "Epoch Loss: 0.0693\n"
          ]
        },
        {
          "name": "stderr",
          "output_type": "stream",
          "text": [
            "\n"
          ]
        },
        {
          "name": "stdout",
          "output_type": "stream",
          "text": [
            "Evaluation Loss: 0.0716\n",
            "Epoch 11/50\n",
            "----------\n"
          ]
        },
        {
          "name": "stderr",
          "output_type": "stream",
          "text": [
            "Current Loss (6.9836e-02), running total (2.0382e+02) : 100%|██████████| 94/94 [01:32<00:00,  1.01it/s]"
          ]
        },
        {
          "name": "stdout",
          "output_type": "stream",
          "text": [
            "Epoch Loss: 0.0679\n"
          ]
        },
        {
          "name": "stderr",
          "output_type": "stream",
          "text": [
            "\n"
          ]
        },
        {
          "name": "stdout",
          "output_type": "stream",
          "text": [
            "Evaluation Loss: 0.0681\n",
            "\n",
            " Saving this model: \n",
            "\n",
            "Epoch 12/50\n",
            "----------\n"
          ]
        },
        {
          "name": "stderr",
          "output_type": "stream",
          "text": [
            "Current Loss (7.9021e-02), running total (1.9853e+02) : 100%|██████████| 94/94 [01:32<00:00,  1.01it/s]"
          ]
        },
        {
          "name": "stdout",
          "output_type": "stream",
          "text": [
            "Epoch Loss: 0.0662\n"
          ]
        },
        {
          "name": "stderr",
          "output_type": "stream",
          "text": [
            "\n"
          ]
        },
        {
          "name": "stdout",
          "output_type": "stream",
          "text": [
            "Evaluation Loss: 0.0679\n",
            "\n",
            " Saving this model: \n",
            "\n",
            "Epoch 13/50\n",
            "----------\n"
          ]
        },
        {
          "name": "stderr",
          "output_type": "stream",
          "text": [
            "Current Loss (7.1784e-02), running total (1.9594e+02) : 100%|██████████| 94/94 [01:33<00:00,  1.01it/s]"
          ]
        },
        {
          "name": "stdout",
          "output_type": "stream",
          "text": [
            "Epoch Loss: 0.0653\n"
          ]
        },
        {
          "name": "stderr",
          "output_type": "stream",
          "text": [
            "\n"
          ]
        },
        {
          "name": "stdout",
          "output_type": "stream",
          "text": [
            "Evaluation Loss: 0.0648\n",
            "\n",
            " Saving this model: \n",
            "\n",
            "Epoch 14/50\n",
            "----------\n"
          ]
        },
        {
          "name": "stderr",
          "output_type": "stream",
          "text": [
            "Current Loss (5.5224e-02), running total (1.9170e+02) : 100%|██████████| 94/94 [01:33<00:00,  1.01it/s]"
          ]
        },
        {
          "name": "stdout",
          "output_type": "stream",
          "text": [
            "Epoch Loss: 0.0639\n"
          ]
        },
        {
          "name": "stderr",
          "output_type": "stream",
          "text": [
            "\n"
          ]
        },
        {
          "name": "stdout",
          "output_type": "stream",
          "text": [
            "Evaluation Loss: 0.0636\n",
            "\n",
            " Saving this model: \n",
            "\n",
            "Epoch 15/50\n",
            "----------\n"
          ]
        },
        {
          "name": "stderr",
          "output_type": "stream",
          "text": [
            "Current Loss (5.4159e-02), running total (1.8809e+02) : 100%|██████████| 94/94 [01:33<00:00,  1.01it/s]"
          ]
        },
        {
          "name": "stdout",
          "output_type": "stream",
          "text": [
            "Epoch Loss: 0.0627\n"
          ]
        },
        {
          "name": "stderr",
          "output_type": "stream",
          "text": [
            "\n"
          ]
        },
        {
          "name": "stdout",
          "output_type": "stream",
          "text": [
            "Evaluation Loss: 0.0678\n",
            "Epoch 16/50\n",
            "----------\n"
          ]
        },
        {
          "name": "stderr",
          "output_type": "stream",
          "text": [
            "Current Loss (5.9956e-02), running total (1.8518e+02) : 100%|██████████| 94/94 [01:33<00:00,  1.01it/s]"
          ]
        },
        {
          "name": "stdout",
          "output_type": "stream",
          "text": [
            "Epoch Loss: 0.0617\n"
          ]
        },
        {
          "name": "stderr",
          "output_type": "stream",
          "text": [
            "\n"
          ]
        },
        {
          "name": "stdout",
          "output_type": "stream",
          "text": [
            "Evaluation Loss: 0.0615\n",
            "\n",
            " Saving this model: \n",
            "\n",
            "Epoch 17/50\n",
            "----------\n"
          ]
        },
        {
          "name": "stderr",
          "output_type": "stream",
          "text": [
            "Current Loss (6.2362e-02), running total (1.8373e+02) : 100%|██████████| 94/94 [01:33<00:00,  1.01it/s]"
          ]
        },
        {
          "name": "stdout",
          "output_type": "stream",
          "text": [
            "Epoch Loss: 0.0612\n"
          ]
        },
        {
          "name": "stderr",
          "output_type": "stream",
          "text": [
            "\n"
          ]
        },
        {
          "name": "stdout",
          "output_type": "stream",
          "text": [
            "Evaluation Loss: 0.0607\n",
            "\n",
            " Saving this model: \n",
            "\n",
            "Epoch 18/50\n",
            "----------\n"
          ]
        },
        {
          "name": "stderr",
          "output_type": "stream",
          "text": [
            "Current Loss (5.8437e-02), running total (1.7987e+02) : 100%|██████████| 94/94 [01:32<00:00,  1.01it/s]"
          ]
        },
        {
          "name": "stdout",
          "output_type": "stream",
          "text": [
            "Epoch Loss: 0.0600\n"
          ]
        },
        {
          "name": "stderr",
          "output_type": "stream",
          "text": [
            "\n"
          ]
        },
        {
          "name": "stdout",
          "output_type": "stream",
          "text": [
            "Evaluation Loss: 0.0606\n",
            "\n",
            " Saving this model: \n",
            "\n",
            "Epoch 19/50\n",
            "----------\n"
          ]
        },
        {
          "name": "stderr",
          "output_type": "stream",
          "text": [
            "Current Loss (6.3288e-02), running total (1.7755e+02) : 100%|██████████| 94/94 [01:32<00:00,  1.01it/s]"
          ]
        },
        {
          "name": "stdout",
          "output_type": "stream",
          "text": [
            "Epoch Loss: 0.0592\n"
          ]
        },
        {
          "name": "stderr",
          "output_type": "stream",
          "text": [
            "\n"
          ]
        },
        {
          "name": "stdout",
          "output_type": "stream",
          "text": [
            "Evaluation Loss: 0.0607\n",
            "Epoch 20/50\n",
            "----------\n"
          ]
        },
        {
          "name": "stderr",
          "output_type": "stream",
          "text": [
            "Current Loss (5.2882e-02), running total (1.7602e+02) : 100%|██████████| 94/94 [01:32<00:00,  1.01it/s]"
          ]
        },
        {
          "name": "stdout",
          "output_type": "stream",
          "text": [
            "Epoch Loss: 0.0587\n"
          ]
        },
        {
          "name": "stderr",
          "output_type": "stream",
          "text": [
            "\n"
          ]
        },
        {
          "name": "stdout",
          "output_type": "stream",
          "text": [
            "Evaluation Loss: 0.0594\n",
            "\n",
            " Saving this model: \n",
            "\n",
            "Epoch 21/50\n",
            "----------\n"
          ]
        },
        {
          "name": "stderr",
          "output_type": "stream",
          "text": [
            "Current Loss (6.2771e-02), running total (1.7377e+02) : 100%|██████████| 94/94 [01:32<00:00,  1.01it/s]"
          ]
        },
        {
          "name": "stdout",
          "output_type": "stream",
          "text": [
            "Epoch Loss: 0.0579\n"
          ]
        },
        {
          "name": "stderr",
          "output_type": "stream",
          "text": [
            "\n"
          ]
        },
        {
          "name": "stdout",
          "output_type": "stream",
          "text": [
            "Evaluation Loss: 0.0601\n",
            "Epoch 22/50\n",
            "----------\n"
          ]
        },
        {
          "name": "stderr",
          "output_type": "stream",
          "text": [
            "Current Loss (4.4249e-02), running total (1.7156e+02) : 100%|██████████| 94/94 [01:32<00:00,  1.01it/s]"
          ]
        },
        {
          "name": "stdout",
          "output_type": "stream",
          "text": [
            "Epoch Loss: 0.0572\n"
          ]
        },
        {
          "name": "stderr",
          "output_type": "stream",
          "text": [
            "\n"
          ]
        },
        {
          "name": "stdout",
          "output_type": "stream",
          "text": [
            "Evaluation Loss: 0.0579\n",
            "\n",
            " Saving this model: \n",
            "\n",
            "Epoch 23/50\n",
            "----------\n"
          ]
        },
        {
          "name": "stderr",
          "output_type": "stream",
          "text": [
            "Current Loss (5.9480e-02), running total (1.7032e+02) : 100%|██████████| 94/94 [01:32<00:00,  1.01it/s]"
          ]
        },
        {
          "name": "stdout",
          "output_type": "stream",
          "text": [
            "Epoch Loss: 0.0568\n"
          ]
        },
        {
          "name": "stderr",
          "output_type": "stream",
          "text": [
            "\n"
          ]
        },
        {
          "name": "stdout",
          "output_type": "stream",
          "text": [
            "Evaluation Loss: 0.0579\n",
            "Epoch 24/50\n",
            "----------\n"
          ]
        },
        {
          "name": "stderr",
          "output_type": "stream",
          "text": [
            "Current Loss (4.7165e-02), running total (1.6823e+02) : 100%|██████████| 94/94 [01:33<00:00,  1.01it/s]"
          ]
        },
        {
          "name": "stdout",
          "output_type": "stream",
          "text": [
            "Epoch Loss: 0.0561\n"
          ]
        },
        {
          "name": "stderr",
          "output_type": "stream",
          "text": [
            "\n"
          ]
        },
        {
          "name": "stdout",
          "output_type": "stream",
          "text": [
            "Evaluation Loss: 0.0578\n",
            "\n",
            " Saving this model: \n",
            "\n",
            "Epoch 25/50\n",
            "----------\n"
          ]
        },
        {
          "name": "stderr",
          "output_type": "stream",
          "text": [
            "Current Loss (5.0914e-02), running total (1.6693e+02) : 100%|██████████| 94/94 [01:33<00:00,  1.01it/s]"
          ]
        },
        {
          "name": "stdout",
          "output_type": "stream",
          "text": [
            "Epoch Loss: 0.0556\n"
          ]
        },
        {
          "name": "stderr",
          "output_type": "stream",
          "text": [
            "\n"
          ]
        },
        {
          "name": "stdout",
          "output_type": "stream",
          "text": [
            "Evaluation Loss: 0.0576\n",
            "\n",
            " Saving this model: \n",
            "\n",
            "Epoch 26/50\n",
            "----------\n"
          ]
        },
        {
          "name": "stderr",
          "output_type": "stream",
          "text": [
            "Current Loss (6.0327e-02), running total (1.6563e+02) : 100%|██████████| 94/94 [01:32<00:00,  1.02it/s]"
          ]
        },
        {
          "name": "stdout",
          "output_type": "stream",
          "text": [
            "Epoch Loss: 0.0552\n"
          ]
        },
        {
          "name": "stderr",
          "output_type": "stream",
          "text": [
            "\n"
          ]
        },
        {
          "name": "stdout",
          "output_type": "stream",
          "text": [
            "Evaluation Loss: 0.0574\n",
            "\n",
            " Saving this model: \n",
            "\n",
            "Epoch 27/50\n",
            "----------\n"
          ]
        },
        {
          "name": "stderr",
          "output_type": "stream",
          "text": [
            "Current Loss (5.2181e-02), running total (1.6455e+02) : 100%|██████████| 94/94 [01:32<00:00,  1.01it/s]"
          ]
        },
        {
          "name": "stdout",
          "output_type": "stream",
          "text": [
            "Epoch Loss: 0.0549\n"
          ]
        },
        {
          "name": "stderr",
          "output_type": "stream",
          "text": [
            "\n"
          ]
        },
        {
          "name": "stdout",
          "output_type": "stream",
          "text": [
            "Evaluation Loss: 0.0559\n",
            "\n",
            " Saving this model: \n",
            "\n",
            "Epoch 28/50\n",
            "----------\n"
          ]
        },
        {
          "name": "stderr",
          "output_type": "stream",
          "text": [
            "Current Loss (6.2786e-02), running total (1.6298e+02) : 100%|██████████| 94/94 [01:32<00:00,  1.02it/s]"
          ]
        },
        {
          "name": "stdout",
          "output_type": "stream",
          "text": [
            "Epoch Loss: 0.0543\n"
          ]
        },
        {
          "name": "stderr",
          "output_type": "stream",
          "text": [
            "\n"
          ]
        },
        {
          "name": "stdout",
          "output_type": "stream",
          "text": [
            "Evaluation Loss: 0.0552\n",
            "\n",
            " Saving this model: \n",
            "\n",
            "Epoch 29/50\n",
            "----------\n"
          ]
        },
        {
          "name": "stderr",
          "output_type": "stream",
          "text": [
            "Current Loss (5.3303e-02), running total (1.6115e+02) : 100%|██████████| 94/94 [01:32<00:00,  1.02it/s]"
          ]
        },
        {
          "name": "stdout",
          "output_type": "stream",
          "text": [
            "Epoch Loss: 0.0537\n"
          ]
        },
        {
          "name": "stderr",
          "output_type": "stream",
          "text": [
            "\n"
          ]
        },
        {
          "name": "stdout",
          "output_type": "stream",
          "text": [
            "Evaluation Loss: 0.0548\n",
            "\n",
            " Saving this model: \n",
            "\n",
            "Epoch 30/50\n",
            "----------\n"
          ]
        },
        {
          "name": "stderr",
          "output_type": "stream",
          "text": [
            "Current Loss (6.8432e-02), running total (1.6033e+02) : 100%|██████████| 94/94 [01:32<00:00,  1.01it/s]"
          ]
        },
        {
          "name": "stdout",
          "output_type": "stream",
          "text": [
            "Epoch Loss: 0.0534\n"
          ]
        },
        {
          "name": "stderr",
          "output_type": "stream",
          "text": [
            "\n"
          ]
        },
        {
          "name": "stdout",
          "output_type": "stream",
          "text": [
            "Evaluation Loss: 0.0542\n",
            "\n",
            " Saving this model: \n",
            "\n",
            "Epoch 31/50\n",
            "----------\n"
          ]
        },
        {
          "name": "stderr",
          "output_type": "stream",
          "text": [
            "Current Loss (6.3706e-02), running total (1.5965e+02) : 100%|██████████| 94/94 [01:33<00:00,  1.01it/s]"
          ]
        },
        {
          "name": "stdout",
          "output_type": "stream",
          "text": [
            "Epoch Loss: 0.0532\n"
          ]
        },
        {
          "name": "stderr",
          "output_type": "stream",
          "text": [
            "\n"
          ]
        },
        {
          "name": "stdout",
          "output_type": "stream",
          "text": [
            "Evaluation Loss: 0.0546\n",
            "Epoch 32/50\n",
            "----------\n"
          ]
        },
        {
          "name": "stderr",
          "output_type": "stream",
          "text": [
            "Current Loss (5.7640e-02), running total (1.5806e+02) : 100%|██████████| 94/94 [01:32<00:00,  1.02it/s]"
          ]
        },
        {
          "name": "stdout",
          "output_type": "stream",
          "text": [
            "Epoch Loss: 0.0527\n"
          ]
        },
        {
          "name": "stderr",
          "output_type": "stream",
          "text": [
            "\n"
          ]
        },
        {
          "name": "stdout",
          "output_type": "stream",
          "text": [
            "Evaluation Loss: 0.0529\n",
            "\n",
            " Saving this model: \n",
            "\n",
            "Epoch 33/50\n",
            "----------\n"
          ]
        },
        {
          "name": "stderr",
          "output_type": "stream",
          "text": [
            "Current Loss (5.1023e-02), running total (1.5708e+02) : 100%|██████████| 94/94 [01:32<00:00,  1.02it/s]"
          ]
        },
        {
          "name": "stdout",
          "output_type": "stream",
          "text": [
            "Epoch Loss: 0.0524\n"
          ]
        },
        {
          "name": "stderr",
          "output_type": "stream",
          "text": [
            "\n"
          ]
        },
        {
          "name": "stdout",
          "output_type": "stream",
          "text": [
            "Evaluation Loss: 0.0532\n",
            "Epoch 34/50\n",
            "----------\n"
          ]
        },
        {
          "name": "stderr",
          "output_type": "stream",
          "text": [
            "Current Loss (5.3883e-02), running total (1.5594e+02) : 100%|██████████| 94/94 [01:32<00:00,  1.01it/s]"
          ]
        },
        {
          "name": "stdout",
          "output_type": "stream",
          "text": [
            "Epoch Loss: 0.0520\n"
          ]
        },
        {
          "name": "stderr",
          "output_type": "stream",
          "text": [
            "\n"
          ]
        },
        {
          "name": "stdout",
          "output_type": "stream",
          "text": [
            "Evaluation Loss: 0.0531\n",
            "Epoch 35/50\n",
            "----------\n"
          ]
        },
        {
          "name": "stderr",
          "output_type": "stream",
          "text": [
            "Current Loss (5.0949e-02), running total (1.5648e+02) : 100%|██████████| 94/94 [01:32<00:00,  1.02it/s]"
          ]
        },
        {
          "name": "stdout",
          "output_type": "stream",
          "text": [
            "Epoch Loss: 0.0522\n"
          ]
        },
        {
          "name": "stderr",
          "output_type": "stream",
          "text": [
            "\n"
          ]
        },
        {
          "name": "stdout",
          "output_type": "stream",
          "text": [
            "Evaluation Loss: 0.0542\n",
            "Epoch 36/50\n",
            "----------\n"
          ]
        },
        {
          "name": "stderr",
          "output_type": "stream",
          "text": [
            "Current Loss (5.5333e-02), running total (1.5486e+02) : 100%|██████████| 94/94 [01:32<00:00,  1.01it/s]"
          ]
        },
        {
          "name": "stdout",
          "output_type": "stream",
          "text": [
            "Epoch Loss: 0.0516\n"
          ]
        },
        {
          "name": "stderr",
          "output_type": "stream",
          "text": [
            "\n"
          ]
        },
        {
          "name": "stdout",
          "output_type": "stream",
          "text": [
            "Evaluation Loss: 0.0522\n",
            "\n",
            " Saving this model: \n",
            "\n",
            "Epoch 37/50\n",
            "----------\n"
          ]
        },
        {
          "name": "stderr",
          "output_type": "stream",
          "text": [
            "Current Loss (5.7539e-02), running total (1.5339e+02) : 100%|██████████| 94/94 [01:32<00:00,  1.02it/s]"
          ]
        },
        {
          "name": "stdout",
          "output_type": "stream",
          "text": [
            "Epoch Loss: 0.0511\n"
          ]
        },
        {
          "name": "stderr",
          "output_type": "stream",
          "text": [
            "\n"
          ]
        },
        {
          "name": "stdout",
          "output_type": "stream",
          "text": [
            "Evaluation Loss: 0.0519\n",
            "\n",
            " Saving this model: \n",
            "\n",
            "Epoch 38/50\n",
            "----------\n"
          ]
        },
        {
          "name": "stderr",
          "output_type": "stream",
          "text": [
            "Current Loss (4.8857e-02), running total (1.5313e+02) : 100%|██████████| 94/94 [01:33<00:00,  1.01it/s]"
          ]
        },
        {
          "name": "stdout",
          "output_type": "stream",
          "text": [
            "Epoch Loss: 0.0510\n"
          ]
        },
        {
          "name": "stderr",
          "output_type": "stream",
          "text": [
            "\n"
          ]
        },
        {
          "name": "stdout",
          "output_type": "stream",
          "text": [
            "Evaluation Loss: 0.0517\n",
            "\n",
            " Saving this model: \n",
            "\n",
            "Epoch 39/50\n",
            "----------\n"
          ]
        },
        {
          "name": "stderr",
          "output_type": "stream",
          "text": [
            "Current Loss (4.9668e-02), running total (1.5181e+02) : 100%|██████████| 94/94 [01:33<00:00,  1.01it/s]"
          ]
        },
        {
          "name": "stdout",
          "output_type": "stream",
          "text": [
            "Epoch Loss: 0.0506\n"
          ]
        },
        {
          "name": "stderr",
          "output_type": "stream",
          "text": [
            "\n"
          ]
        },
        {
          "name": "stdout",
          "output_type": "stream",
          "text": [
            "Evaluation Loss: 0.0519\n",
            "Epoch 40/50\n",
            "----------\n"
          ]
        },
        {
          "name": "stderr",
          "output_type": "stream",
          "text": [
            "Current Loss (4.6429e-02), running total (1.5193e+02) : 100%|██████████| 94/94 [01:32<00:00,  1.02it/s]"
          ]
        },
        {
          "name": "stdout",
          "output_type": "stream",
          "text": [
            "Epoch Loss: 0.0506\n"
          ]
        },
        {
          "name": "stderr",
          "output_type": "stream",
          "text": [
            "\n"
          ]
        },
        {
          "name": "stdout",
          "output_type": "stream",
          "text": [
            "Evaluation Loss: 0.0528\n",
            "Epoch 41/50\n",
            "----------\n"
          ]
        },
        {
          "name": "stderr",
          "output_type": "stream",
          "text": [
            "Current Loss (5.5846e-02), running total (1.5055e+02) : 100%|██████████| 94/94 [01:32<00:00,  1.02it/s]"
          ]
        },
        {
          "name": "stdout",
          "output_type": "stream",
          "text": [
            "Epoch Loss: 0.0502\n"
          ]
        },
        {
          "name": "stderr",
          "output_type": "stream",
          "text": [
            "\n"
          ]
        },
        {
          "name": "stdout",
          "output_type": "stream",
          "text": [
            "Evaluation Loss: 0.0505\n",
            "\n",
            " Saving this model: \n",
            "\n",
            "Epoch 42/50\n",
            "----------\n"
          ]
        },
        {
          "name": "stderr",
          "output_type": "stream",
          "text": [
            "Current Loss (4.3528e-02), running total (1.5017e+02) : 100%|██████████| 94/94 [01:33<00:00,  1.01it/s]"
          ]
        },
        {
          "name": "stdout",
          "output_type": "stream",
          "text": [
            "Epoch Loss: 0.0501\n"
          ]
        },
        {
          "name": "stderr",
          "output_type": "stream",
          "text": [
            "\n"
          ]
        },
        {
          "name": "stdout",
          "output_type": "stream",
          "text": [
            "Evaluation Loss: 0.0516\n",
            "Epoch 43/50\n",
            "----------\n"
          ]
        },
        {
          "name": "stderr",
          "output_type": "stream",
          "text": [
            "Current Loss (4.6064e-02), running total (1.4940e+02) : 100%|██████████| 94/94 [01:32<00:00,  1.02it/s]"
          ]
        },
        {
          "name": "stdout",
          "output_type": "stream",
          "text": [
            "Epoch Loss: 0.0498\n"
          ]
        },
        {
          "name": "stderr",
          "output_type": "stream",
          "text": [
            "\n"
          ]
        },
        {
          "name": "stdout",
          "output_type": "stream",
          "text": [
            "Evaluation Loss: 0.0505\n",
            "\n",
            " Saving this model: \n",
            "\n",
            "Epoch 44/50\n",
            "----------\n"
          ]
        },
        {
          "name": "stderr",
          "output_type": "stream",
          "text": [
            "Current Loss (4.7633e-02), running total (1.4788e+02) : 100%|██████████| 94/94 [01:34<00:00,  1.00s/it]"
          ]
        },
        {
          "name": "stdout",
          "output_type": "stream",
          "text": [
            "Epoch Loss: 0.0493\n"
          ]
        },
        {
          "name": "stderr",
          "output_type": "stream",
          "text": [
            "\n"
          ]
        },
        {
          "name": "stdout",
          "output_type": "stream",
          "text": [
            "Evaluation Loss: 0.0499\n",
            "\n",
            " Saving this model: \n",
            "\n",
            "Epoch 45/50\n",
            "----------\n"
          ]
        },
        {
          "name": "stderr",
          "output_type": "stream",
          "text": [
            "Current Loss (4.8731e-02), running total (1.4773e+02) : 100%|██████████| 94/94 [01:33<00:00,  1.00it/s]"
          ]
        },
        {
          "name": "stdout",
          "output_type": "stream",
          "text": [
            "Epoch Loss: 0.0492\n"
          ]
        },
        {
          "name": "stderr",
          "output_type": "stream",
          "text": [
            "\n"
          ]
        },
        {
          "name": "stdout",
          "output_type": "stream",
          "text": [
            "Evaluation Loss: 0.0503\n",
            "Epoch 46/50\n",
            "----------\n"
          ]
        },
        {
          "name": "stderr",
          "output_type": "stream",
          "text": [
            "Current Loss (5.8766e-02), running total (1.4681e+02) : 100%|██████████| 94/94 [01:33<00:00,  1.01it/s]"
          ]
        },
        {
          "name": "stdout",
          "output_type": "stream",
          "text": [
            "Epoch Loss: 0.0489\n"
          ]
        },
        {
          "name": "stderr",
          "output_type": "stream",
          "text": [
            "\n"
          ]
        },
        {
          "name": "stdout",
          "output_type": "stream",
          "text": [
            "Evaluation Loss: 0.0494\n",
            "\n",
            " Saving this model: \n",
            "\n",
            "Epoch 47/50\n",
            "----------\n"
          ]
        },
        {
          "name": "stderr",
          "output_type": "stream",
          "text": [
            "Current Loss (4.6534e-02), running total (1.4707e+02) : 100%|██████████| 94/94 [01:34<00:00,  1.00s/it]"
          ]
        },
        {
          "name": "stdout",
          "output_type": "stream",
          "text": [
            "Epoch Loss: 0.0490\n"
          ]
        },
        {
          "name": "stderr",
          "output_type": "stream",
          "text": [
            "\n"
          ]
        },
        {
          "name": "stdout",
          "output_type": "stream",
          "text": [
            "Evaluation Loss: 0.0495\n",
            "Epoch 48/50\n",
            "----------\n"
          ]
        },
        {
          "name": "stderr",
          "output_type": "stream",
          "text": [
            "Current Loss (5.7803e-02), running total (1.4619e+02) : 100%|██████████| 94/94 [01:34<00:00,  1.00s/it]"
          ]
        },
        {
          "name": "stdout",
          "output_type": "stream",
          "text": [
            "Epoch Loss: 0.0487\n"
          ]
        },
        {
          "name": "stderr",
          "output_type": "stream",
          "text": [
            "\n"
          ]
        },
        {
          "name": "stdout",
          "output_type": "stream",
          "text": [
            "Evaluation Loss: 0.0510\n",
            "Epoch 49/50\n",
            "----------\n"
          ]
        },
        {
          "name": "stderr",
          "output_type": "stream",
          "text": [
            "Current Loss (5.6332e-02), running total (1.4466e+02) : 100%|██████████| 94/94 [01:34<00:00,  1.00s/it]"
          ]
        },
        {
          "name": "stdout",
          "output_type": "stream",
          "text": [
            "Epoch Loss: 0.0482\n"
          ]
        },
        {
          "name": "stderr",
          "output_type": "stream",
          "text": [
            "\n"
          ]
        },
        {
          "name": "stdout",
          "output_type": "stream",
          "text": [
            "Evaluation Loss: 0.0504\n",
            "Epoch 50/50\n",
            "----------\n"
          ]
        },
        {
          "name": "stderr",
          "output_type": "stream",
          "text": [
            "Current Loss (5.0962e-02), running total (1.4354e+02) : 100%|██████████| 94/94 [01:34<00:00,  1.00s/it]"
          ]
        },
        {
          "name": "stdout",
          "output_type": "stream",
          "text": [
            "Epoch Loss: 0.0478\n"
          ]
        },
        {
          "name": "stderr",
          "output_type": "stream",
          "text": [
            "\n"
          ]
        },
        {
          "name": "stdout",
          "output_type": "stream",
          "text": [
            "Evaluation Loss: 0.0502\n"
          ]
        }
      ],
      "source": [
        "dls = {split : get_dataloader(\"5k\", 128, split) for split in [\"train\", \"val\", \"test\"]}\n",
        "\n",
        "colornet, train_losses, val_losses = train_model(colornet, dls, optimizer, None, num_epochs = 50)\n",
        "\n",
        "#saving all results\n",
        "pickle.dump(train_losses, open(path_drive + \"gt_trunc0.1_train_losses.pkl\", 'wb'))\n",
        "pickle.dump(val_losses, open(path_drive + \"gt_trunc0.1_val_losses.pkl\", 'wb'))"
      ]
    },
    {
      "cell_type": "markdown",
      "metadata": {
        "id": "E51LSGEFWEr8"
      },
      "source": [
        "# Model Evaluation"
      ]
    },
    {
      "cell_type": "code",
      "execution_count": null,
      "metadata": {
        "colab": {
          "base_uri": "https://localhost:8080/",
          "height": 371
        },
        "id": "PBqybON3aGEB",
        "outputId": "1ee75ef8-4f7e-4d7b-e543-186d4e766b66"
      },
      "outputs": [
        {
          "data": {
            "text/plain": [
              "<matplotlib.legend.Legend at 0x7f99bcf35290>"
            ]
          },
          "execution_count": 36,
          "metadata": {},
          "output_type": "execute_result"
        },
        {
          "data": {
            "image/png": "[encoded data removed]",
            "text/plain": [
              "<Figure size 504x360 with 1 Axes>"
            ]
          },
          "metadata": {},
          "output_type": "display_data"
        }
      ],
      "source": [
        "\n",
        "train_losses = pickle.load(open(path_drive + \"onehot_train_losses.pkl\",'rb'))\n",
        "val_losses = pickle.load(open(path_drive + \"onehot_val_losses.pkl\",'rb'))\n",
        "\n",
        "#plotting losses\n",
        "\n",
        "plt.figure(figsize=(7,5))\n",
        "plt.plot(range(50), train_losses[:50], label = \"Training Set Loss\")\n",
        "plt.plot(range(50), val_losses[:50], label = \"Validation Set Loss\")\n",
        "plt.xlabel(\"Epochs\", fontsize=12)\n",
        "plt.ylabel(\"Pixel-Wise MSE Loss\", fontsize=12)\n",
        "plt.title(\"Variant 1\")\n",
        "plt.legend(fontsize=12)\n"
      ]
    },
    {
      "cell_type": "code",
      "execution_count": null,
      "metadata": {},
      "outputs": [],
      "source": [
        "# show some sample outputs\n",
        "\n",
        "val_dataloader = get_dataloader('5k', 128, 'test')\n",
        "out = None\n",
        "with torch.no_grad():\n",
        "    g, c, gt = iter(val_dataloader).next()\n",
        "    g = g.to(device)\n",
        "    c = c.to(device)\n",
        "    gt = gt.to(device)\n",
        "\n",
        "    out, encoding, _ = colornet(g, truncation = 0.1, gt=gt)\n",
        "\n",
        "\n",
        "\n",
        "for i in range(16):\n",
        "    fig, ax = plt.subplots(1,3, figsize=(10,30))\n",
        "    ax[0].imshow(g[i].detach().cpu().numpy().transpose(1,2,0))\n",
        "    ax[0].axis(\"off\")\n",
        "    ax[1].imshow(out[i].detach().cpu().numpy().transpose(1,2,0))\n",
        "    ax[1].axis(\"off\")\n",
        "    ax[2].imshow(c[i].detach().cpu().numpy().transpose(1,2,0))\n",
        "    ax[2].axis(\"off\")"
      ]
    }
  ],
  "metadata": {
    "accelerator": "GPU",
    "colab": {
      "collapsed_sections": [],
      "name": "experiment_biggan.ipynb",
      "provenance": []
    },
    "kernelspec": {
      "display_name": "Python 3",
      "name": "python3"
    },
    "language_info": {
      "name": "python"
    }
  },
  "nbformat": 4,
  "nbformat_minor": 0
}
